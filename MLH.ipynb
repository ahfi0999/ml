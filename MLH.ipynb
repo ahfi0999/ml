{
 "cells": [
  {
   "cell_type": "code",
   "execution_count": 128,
   "id": "93ecc9c7",
   "metadata": {},
   "outputs": [],
   "source": [
    "import numpy as np\n",
    "import pandas as pd"
   ]
  },
  {
   "cell_type": "code",
   "execution_count": 129,
   "id": "a19571b5",
   "metadata": {},
   "outputs": [],
   "source": [
    "df=pd.read_csv(\"diabetic.txt\")"
   ]
  },
  {
   "cell_type": "code",
   "execution_count": 130,
   "id": "7ff874cc",
   "metadata": {},
   "outputs": [],
   "source": [
    "df[\"Diabetic Status\"]=df[\"Diabetic Status\"].map({\"No\":0,\"Yes\":1})"
   ]
  },
  {
   "cell_type": "code",
   "execution_count": 131,
   "id": "3b2fadde",
   "metadata": {},
   "outputs": [],
   "source": [
    "X=df[[\"Age\",\"BMI\",\"Blood Pressure\",\"Glucose Level\",\"Insulin Level\"]].values"
   ]
  },
  {
   "cell_type": "code",
   "execution_count": 132,
   "id": "1964b0d3",
   "metadata": {},
   "outputs": [
    {
     "name": "stdout",
     "output_type": "stream",
     "text": [
      "[[ 45.   25.3 120.  140.   85. ]\n",
      " [ 50.   28.1 130.  155.   90. ]\n",
      " [ 38.   23.5 115.  110.   75. ]\n",
      " [ 60.   31.2 135.  160.   95. ]\n",
      " [ 55.   29.8 128.  150.   92. ]\n",
      " [ 32.   22.7 110.  105.   70. ]\n",
      " [ 42.   26.5 118.  135.   80. ]\n",
      " [ 48.   27.3 125.  145.   88. ]\n",
      " [ 35.   24.1 113.  120.   78. ]\n",
      " [ 58.   30.5 132.  158.   93. ]\n",
      " [ 41.   25.8 121.  138.   82. ]\n",
      " [ 47.   27.  126.  144.   87. ]\n",
      " [ 36.   24.9 114.  122.   76. ]\n",
      " [ 53.   29.1 130.  148.   89. ]\n",
      " [ 40.   26.  119.  132.   81. ]\n",
      " [ 61.   31.5 136.  162.   96. ]\n",
      " [ 39.   23.8 117.  128.   77. ]\n",
      " [ 49.   27.5 129.  146.   90. ]\n",
      " [ 37.   24.5 116.  124.   79. ]\n",
      " [ 54.   30.  133.  150.   91. ]\n",
      " [ 46.   26.1 122.  142.   86. ]\n",
      " [ 51.   28.5 131.  156.   91. ]\n",
      " [ 34.   23.1 111.  108.   72. ]\n",
      " [ 62.   32.  137.  164.   97. ]\n",
      " [ 56.   30.  129.  152.   93. ]\n",
      " [ 30.   22.  109.  104.   68. ]\n",
      " [ 43.   27.  119.  136.   81. ]\n",
      " [ 49.   28.  124.  146.   89. ]\n",
      " [ 33.   24.  112.  118.   75. ]\n",
      " [ 59.   31.  134.  160.   94. ]\n",
      " [ 42.   26.7 122.  140.   83. ]\n",
      " [ 48.   28.2 127.  149.   88. ]\n",
      " [ 36.   24.2 115.  121.   77. ]\n",
      " [ 52.   29.5 129.  151.   90. ]\n",
      " [ 39.   25.5 120.  130.   80. ]\n",
      " [ 63.   32.5 138.  165.   98. ]\n",
      " [ 37.   24.3 118.  125.   78. ]\n",
      " [ 50.   27.8 130.  147.   91. ]\n",
      " [ 35.   24.6 117.  123.   76. ]\n",
      " [ 55.   30.5 132.  153.   92. ]]\n"
     ]
    }
   ],
   "source": [
    "print(X)"
   ]
  },
  {
   "cell_type": "code",
   "execution_count": 133,
   "id": "98185533",
   "metadata": {},
   "outputs": [],
   "source": [
    "Y=df[\"Diabetic Status\"].values.reshape(-1,1)"
   ]
  },
  {
   "cell_type": "code",
   "execution_count": 134,
   "id": "53b718ed",
   "metadata": {},
   "outputs": [],
   "source": [
    "X=(X-X.mean(axis=0))/X.std(axis=0)"
   ]
  },
  {
   "cell_type": "code",
   "execution_count": 135,
   "id": "20b81931",
   "metadata": {},
   "outputs": [
    {
     "data": {
      "text/plain": [
       "(40, 5)"
      ]
     },
     "execution_count": 135,
     "metadata": {},
     "output_type": "execute_result"
    }
   ],
   "source": [
    "X\n",
    "X.shape"
   ]
  },
  {
   "cell_type": "code",
   "execution_count": 136,
   "id": "cb61fa2e",
   "metadata": {},
   "outputs": [
    {
     "data": {
      "text/plain": [
       "array([[ 1.        , -0.10833785, -0.64639166, -0.4397378 ,  0.05643202,\n",
       "         0.02222603],\n",
       "       [ 1.        ,  0.43335139,  0.35079658,  0.790298  ,  0.94746392,\n",
       "         0.65725547],\n",
       "       [ 1.        , -0.86670278, -1.28744125, -1.05475569, -1.72563178,\n",
       "        -1.24783285],\n",
       "       [ 1.        ,  1.51672987,  1.45482642,  1.4053159 ,  1.24447455,\n",
       "         1.29228492],\n",
       "       [ 1.        ,  0.97504063,  0.9562323 ,  0.54429084,  0.65045329,\n",
       "         0.91126725],\n",
       "       [ 1.        , -1.51672987, -1.57235218, -1.66977359, -2.02264241,\n",
       "        -1.8828623 ],\n",
       "       [ 1.        , -0.43335139, -0.21902527, -0.68574496, -0.24057861,\n",
       "        -0.61280341],\n",
       "       [ 1.        ,  0.2166757 ,  0.06588565,  0.1752801 ,  0.35344265,\n",
       "         0.4032437 ],\n",
       "       [ 1.        , -1.19171632, -1.07375805, -1.30076285, -1.13161051,\n",
       "        -0.86681519],\n",
       "       [ 1.        ,  1.30005417,  1.20552936,  1.03630516,  1.1256703 ,\n",
       "         1.03827314],\n",
       "       [ 1.        , -0.54168924, -0.46832234, -0.31673422, -0.06237223,\n",
       "        -0.35879163],\n",
       "       [ 1.        ,  0.10833785, -0.04095595,  0.29828368,  0.29404053,\n",
       "         0.27623781],\n",
       "       [ 1.        , -1.08337848, -0.78884713, -1.17775927, -1.01280626,\n",
       "        -1.12082697],\n",
       "       [ 1.        ,  0.75836493,  0.70693524,  0.790298  ,  0.53164903,\n",
       "         0.53024958],\n",
       "       [ 1.        , -0.65002709, -0.3970946 , -0.56274138, -0.41878499,\n",
       "        -0.48579752],\n",
       "       [ 1.        ,  1.62506771,  1.56166802,  1.52831948,  1.3632788 ,\n",
       "         1.4192908 ],\n",
       "       [ 1.        , -0.75836493, -1.18059965, -0.80874854, -0.6563935 ,\n",
       "        -0.99382108],\n",
       "       [ 1.        ,  0.32501354,  0.13711338,  0.66729442,  0.41284478,\n",
       "         0.65725547],\n",
       "       [ 1.        , -0.97504063, -0.93130259, -0.93175211, -0.894002  ,\n",
       "        -0.7398093 ],\n",
       "       [ 1.        ,  0.86670278,  1.02746003,  1.15930874,  0.65045329,\n",
       "         0.78426136],\n",
       "       [ 1.        ,  0.        , -0.36148074, -0.19373064,  0.17523627,\n",
       "         0.14923192],\n",
       "       [ 1.        ,  0.54168924,  0.49325204,  0.91330158,  1.00686604,\n",
       "         0.78426136],\n",
       "       [ 1.        , -1.30005417, -1.42989671, -1.54677001, -1.84443603,\n",
       "        -1.62885052],\n",
       "       [ 1.        ,  1.73340556,  1.73973735,  1.65132305,  1.48208306,\n",
       "         1.54629669],\n",
       "       [ 1.        ,  1.08337848,  1.02746003,  0.66729442,  0.76925754,\n",
       "         1.03827314],\n",
       "       [ 1.        , -1.73340556, -1.82164924, -1.79277717, -2.08204454,\n",
       "        -2.13687407],\n",
       "       [ 1.        , -0.32501354, -0.04095595, -0.56274138, -0.18117649,\n",
       "        -0.48579752],\n",
       "       [ 1.        ,  0.32501354,  0.31518271,  0.05227652,  0.41284478,\n",
       "         0.53024958],\n",
       "       [ 1.        , -1.40839202, -1.10937192, -1.42376643, -1.25041476,\n",
       "        -1.24783285],\n",
       "       [ 1.        ,  1.40839202,  1.38359869,  1.28231232,  1.24447455,\n",
       "         1.16527903],\n",
       "       [ 1.        , -0.43335139, -0.14779754, -0.19373064,  0.05643202,\n",
       "        -0.23178575],\n",
       "       [ 1.        ,  0.2166757 ,  0.38641044,  0.42128726,  0.59105116,\n",
       "         0.4032437 ],\n",
       "       [ 1.        , -1.08337848, -1.03814419, -1.05475569, -1.07220838,\n",
       "        -0.99382108],\n",
       "       [ 1.        ,  0.65002709,  0.8493907 ,  0.66729442,  0.70985541,\n",
       "         0.65725547],\n",
       "       [ 1.        , -0.75836493, -0.57516393, -0.4397378 , -0.53758925,\n",
       "        -0.61280341],\n",
       "       [ 1.        ,  1.84174341,  1.91780667,  1.77432663,  1.54148518,\n",
       "         1.67330258],\n",
       "       [ 1.        , -0.97504063, -1.00253032, -0.68574496, -0.83459988,\n",
       "        -0.86681519],\n",
       "       [ 1.        ,  0.43335139,  0.24395498,  0.790298  ,  0.47224691,\n",
       "         0.78426136],\n",
       "       [ 1.        , -1.19171632, -0.89568873, -0.80874854, -0.95340413,\n",
       "        -1.12082697],\n",
       "       [ 1.        ,  0.97504063,  1.20552936,  1.03630516,  0.82865967,\n",
       "         0.91126725]])"
      ]
     },
     "execution_count": 136,
     "metadata": {},
     "output_type": "execute_result"
    }
   ],
   "source": [
    "X=np.hstack([np.ones((X.shape[0],1)),X])\n",
    "X.shape\n",
    "X"
   ]
  },
  {
   "cell_type": "code",
   "execution_count": 137,
   "id": "d7ce9166",
   "metadata": {},
   "outputs": [],
   "source": [
    "weights=np.zeros((X.shape[1],1))\n",
    "\n",
    "def sigmoid(z):\n",
    "    return 1/(1+np.exp(-z))\n",
    "\n",
    "lr=0.1\n",
    "epochs=1000\n",
    "for _ in range(epochs):\n",
    "    z=X@weights\n",
    "    y_hat=sigmoid(z)\n",
    "    gradient=X.T@(y_hat-Y)/len(X)\n",
    "    probs=sigmoid(X@weights)"
   ]
  },
  {
   "cell_type": "code",
   "execution_count": 138,
   "id": "5865a6b8",
   "metadata": {},
   "outputs": [
    {
     "data": {
      "text/plain": [
       "array([[0.5],\n",
       "       [0.5],\n",
       "       [0.5],\n",
       "       [0.5],\n",
       "       [0.5],\n",
       "       [0.5],\n",
       "       [0.5],\n",
       "       [0.5],\n",
       "       [0.5],\n",
       "       [0.5],\n",
       "       [0.5],\n",
       "       [0.5],\n",
       "       [0.5],\n",
       "       [0.5],\n",
       "       [0.5],\n",
       "       [0.5],\n",
       "       [0.5],\n",
       "       [0.5],\n",
       "       [0.5],\n",
       "       [0.5],\n",
       "       [0.5],\n",
       "       [0.5],\n",
       "       [0.5],\n",
       "       [0.5],\n",
       "       [0.5],\n",
       "       [0.5],\n",
       "       [0.5],\n",
       "       [0.5],\n",
       "       [0.5],\n",
       "       [0.5],\n",
       "       [0.5],\n",
       "       [0.5],\n",
       "       [0.5],\n",
       "       [0.5],\n",
       "       [0.5],\n",
       "       [0.5],\n",
       "       [0.5],\n",
       "       [0.5],\n",
       "       [0.5],\n",
       "       [0.5]])"
      ]
     },
     "execution_count": 138,
     "metadata": {},
     "output_type": "execute_result"
    }
   ],
   "source": [
    "probs"
   ]
  },
  {
   "cell_type": "code",
   "execution_count": 139,
   "id": "78f9b663",
   "metadata": {},
   "outputs": [],
   "source": [
    "eps = 1e-15\n",
    "probs_clipped = np.clip(probs, eps, 1 - eps)\n"
   ]
  },
  {
   "cell_type": "code",
   "execution_count": 140,
   "id": "9365fdae",
   "metadata": {},
   "outputs": [
    {
     "data": {
      "text/plain": [
       "np.float64(0.6931471805599453)"
      ]
     },
     "execution_count": 140,
     "metadata": {},
     "output_type": "execute_result"
    }
   ],
   "source": [
    "# Basic definition of cross-entropy\n",
    "CE_stat = -np.mean(Y * np.log(probs_clipped) + (1 - Y) * np.log(1 - probs_clipped))\n",
    "CE_stat\n"
   ]
  },
  {
   "cell_type": "code",
   "execution_count": 141,
   "id": "27ac7716",
   "metadata": {},
   "outputs": [
    {
     "data": {
      "text/plain": [
       "np.float64(0.6931471805599453)"
      ]
     },
     "execution_count": 141,
     "metadata": {},
     "output_type": "execute_result"
    }
   ],
   "source": [
    "# Same as statistical — but interpreted as \"loss after model training\"\n",
    "CE_ml = CE_stat\n",
    "CE_ml\n"
   ]
  },
  {
   "cell_type": "code",
   "execution_count": 142,
   "id": "aabdba45",
   "metadata": {},
   "outputs": [
    {
     "data": {
      "text/plain": [
       "np.float64(18.996327017200876)"
      ]
     },
     "execution_count": 142,
     "metadata": {},
     "output_type": "execute_result"
    }
   ],
   "source": [
    "# Simulate SNN by converting probabilities to 0 or 1\n",
    "spikes = (probs > 0.5).astype(int)\n",
    "CE_snn = -np.mean(Y * np.log(np.clip(spikes, eps, 1)) + (1 - Y) * np.log(np.clip(1 - spikes, eps, 1)))\n",
    "CE_snn\n"
   ]
  },
  {
   "cell_type": "code",
   "execution_count": 143,
   "id": "ae8857fb",
   "metadata": {},
   "outputs": [
    {
     "data": {
      "text/plain": [
       "np.float64(0.6931471805599453)"
      ]
     },
     "execution_count": 143,
     "metadata": {},
     "output_type": "execute_result"
    }
   ],
   "source": [
    "# Use logits directly before sigmoid\n",
    "logits = X @ weights\n",
    "\n",
    "# Binary cross-entropy using logits: log(1 + exp(-y*z))\n",
    "CE_dnn = np.mean(np.log(1 + np.exp(-Y* logits)))\n",
    "CE_dnn\n"
   ]
  },
  {
   "cell_type": "code",
   "execution_count": 144,
   "id": "853184c5",
   "metadata": {},
   "outputs": [
    {
     "name": "stdout",
     "output_type": "stream",
     "text": [
      "1️⃣ Statistical Cross Entropy: 0.6931471805599453\n",
      "2️⃣ ML Cross Entropy: 0.6931471805599453\n",
      "3️⃣ SNN Cross Entropy: 18.996327017200876\n",
      "4️⃣ DNN Cross Entropy: 0.6931471805599453\n"
     ]
    }
   ],
   "source": [
    "print(\"1️⃣ Statistical Cross Entropy:\", CE_stat)\n",
    "print(\"2️⃣ ML Cross Entropy:\", CE_ml)\n",
    "print(\"3️⃣ SNN Cross Entropy:\", CE_snn)\n",
    "print(\"4️⃣ DNN Cross Entropy:\", CE_dnn)\n"
   ]
  }
 ],
 "metadata": {
  "kernelspec": {
   "display_name": "Python 3",
   "language": "python",
   "name": "python3"
  },
  "language_info": {
   "codemirror_mode": {
    "name": "ipython",
    "version": 3
   },
   "file_extension": ".py",
   "mimetype": "text/x-python",
   "name": "python",
   "nbconvert_exporter": "python",
   "pygments_lexer": "ipython3",
   "version": "3.12.1"
  }
 },
 "nbformat": 4,
 "nbformat_minor": 5
}
