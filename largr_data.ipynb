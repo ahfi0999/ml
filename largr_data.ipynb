{
 "cells": [
  {
   "cell_type": "code",
   "execution_count": 23,
   "id": "fe940292",
   "metadata": {},
   "outputs": [],
   "source": [
    "import numpy as np\n",
    "import pandas as pd"
   ]
  },
  {
   "cell_type": "code",
   "execution_count": 24,
   "id": "ae8190bc",
   "metadata": {},
   "outputs": [],
   "source": [
    "df=pd.read_csv(\"health_lifestyle_data_large.csv\")"
   ]
  },
  {
   "cell_type": "code",
   "execution_count": 25,
   "id": "d7d15565",
   "metadata": {},
   "outputs": [
    {
     "data": {
      "text/html": [
       "<div>\n",
       "<style scoped>\n",
       "    .dataframe tbody tr th:only-of-type {\n",
       "        vertical-align: middle;\n",
       "    }\n",
       "\n",
       "    .dataframe tbody tr th {\n",
       "        vertical-align: top;\n",
       "    }\n",
       "\n",
       "    .dataframe thead th {\n",
       "        text-align: right;\n",
       "    }\n",
       "</style>\n",
       "<table border=\"1\" class=\"dataframe\">\n",
       "  <thead>\n",
       "    <tr style=\"text-align: right;\">\n",
       "      <th></th>\n",
       "      <th>Age</th>\n",
       "      <th>BMI</th>\n",
       "      <th>Exercise_Hours</th>\n",
       "      <th>Sleep_Hours</th>\n",
       "      <th>Blood_Pressure</th>\n",
       "      <th>Glucose_Level</th>\n",
       "      <th>Income</th>\n",
       "      <th>Diabetic_Score</th>\n",
       "    </tr>\n",
       "  </thead>\n",
       "  <tbody>\n",
       "    <tr>\n",
       "      <th>0</th>\n",
       "      <td>56</td>\n",
       "      <td>20.6</td>\n",
       "      <td>3.2</td>\n",
       "      <td>8.5</td>\n",
       "      <td>149</td>\n",
       "      <td>86</td>\n",
       "      <td>23052</td>\n",
       "      <td>16.9</td>\n",
       "    </tr>\n",
       "    <tr>\n",
       "      <th>1</th>\n",
       "      <td>69</td>\n",
       "      <td>27.8</td>\n",
       "      <td>1.1</td>\n",
       "      <td>5.7</td>\n",
       "      <td>141</td>\n",
       "      <td>88</td>\n",
       "      <td>64377</td>\n",
       "      <td>18.2</td>\n",
       "    </tr>\n",
       "    <tr>\n",
       "      <th>2</th>\n",
       "      <td>46</td>\n",
       "      <td>24.0</td>\n",
       "      <td>1.7</td>\n",
       "      <td>6.0</td>\n",
       "      <td>129</td>\n",
       "      <td>80</td>\n",
       "      <td>87838</td>\n",
       "      <td>14.8</td>\n",
       "    </tr>\n",
       "    <tr>\n",
       "      <th>3</th>\n",
       "      <td>32</td>\n",
       "      <td>21.3</td>\n",
       "      <td>2.4</td>\n",
       "      <td>7.4</td>\n",
       "      <td>137</td>\n",
       "      <td>105</td>\n",
       "      <td>87819</td>\n",
       "      <td>18.0</td>\n",
       "    </tr>\n",
       "    <tr>\n",
       "      <th>4</th>\n",
       "      <td>60</td>\n",
       "      <td>24.4</td>\n",
       "      <td>0.1</td>\n",
       "      <td>6.1</td>\n",
       "      <td>142</td>\n",
       "      <td>117</td>\n",
       "      <td>35620</td>\n",
       "      <td>20.3</td>\n",
       "    </tr>\n",
       "    <tr>\n",
       "      <th>...</th>\n",
       "      <td>...</td>\n",
       "      <td>...</td>\n",
       "      <td>...</td>\n",
       "      <td>...</td>\n",
       "      <td>...</td>\n",
       "      <td>...</td>\n",
       "      <td>...</td>\n",
       "      <td>...</td>\n",
       "    </tr>\n",
       "    <tr>\n",
       "      <th>995</th>\n",
       "      <td>60</td>\n",
       "      <td>28.7</td>\n",
       "      <td>3.0</td>\n",
       "      <td>4.4</td>\n",
       "      <td>139</td>\n",
       "      <td>84</td>\n",
       "      <td>66936</td>\n",
       "      <td>22.3</td>\n",
       "    </tr>\n",
       "    <tr>\n",
       "      <th>996</th>\n",
       "      <td>64</td>\n",
       "      <td>23.5</td>\n",
       "      <td>0.2</td>\n",
       "      <td>7.7</td>\n",
       "      <td>148</td>\n",
       "      <td>189</td>\n",
       "      <td>28593</td>\n",
       "      <td>27.6</td>\n",
       "    </tr>\n",
       "    <tr>\n",
       "      <th>997</th>\n",
       "      <td>62</td>\n",
       "      <td>25.3</td>\n",
       "      <td>2.2</td>\n",
       "      <td>7.9</td>\n",
       "      <td>129</td>\n",
       "      <td>169</td>\n",
       "      <td>37358</td>\n",
       "      <td>25.6</td>\n",
       "    </tr>\n",
       "    <tr>\n",
       "      <th>998</th>\n",
       "      <td>35</td>\n",
       "      <td>29.9</td>\n",
       "      <td>0.9</td>\n",
       "      <td>6.2</td>\n",
       "      <td>133</td>\n",
       "      <td>140</td>\n",
       "      <td>57381</td>\n",
       "      <td>25.4</td>\n",
       "    </tr>\n",
       "    <tr>\n",
       "      <th>999</th>\n",
       "      <td>55</td>\n",
       "      <td>25.5</td>\n",
       "      <td>3.2</td>\n",
       "      <td>3.9</td>\n",
       "      <td>132</td>\n",
       "      <td>164</td>\n",
       "      <td>48074</td>\n",
       "      <td>27.6</td>\n",
       "    </tr>\n",
       "  </tbody>\n",
       "</table>\n",
       "<p>1000 rows × 8 columns</p>\n",
       "</div>"
      ],
      "text/plain": [
       "     Age   BMI  Exercise_Hours  Sleep_Hours  Blood_Pressure  Glucose_Level  \\\n",
       "0     56  20.6             3.2          8.5             149             86   \n",
       "1     69  27.8             1.1          5.7             141             88   \n",
       "2     46  24.0             1.7          6.0             129             80   \n",
       "3     32  21.3             2.4          7.4             137            105   \n",
       "4     60  24.4             0.1          6.1             142            117   \n",
       "..   ...   ...             ...          ...             ...            ...   \n",
       "995   60  28.7             3.0          4.4             139             84   \n",
       "996   64  23.5             0.2          7.7             148            189   \n",
       "997   62  25.3             2.2          7.9             129            169   \n",
       "998   35  29.9             0.9          6.2             133            140   \n",
       "999   55  25.5             3.2          3.9             132            164   \n",
       "\n",
       "     Income  Diabetic_Score  \n",
       "0     23052            16.9  \n",
       "1     64377            18.2  \n",
       "2     87838            14.8  \n",
       "3     87819            18.0  \n",
       "4     35620            20.3  \n",
       "..      ...             ...  \n",
       "995   66936            22.3  \n",
       "996   28593            27.6  \n",
       "997   37358            25.6  \n",
       "998   57381            25.4  \n",
       "999   48074            27.6  \n",
       "\n",
       "[1000 rows x 8 columns]"
      ]
     },
     "execution_count": 25,
     "metadata": {},
     "output_type": "execute_result"
    }
   ],
   "source": [
    "df"
   ]
  },
  {
   "cell_type": "code",
   "execution_count": 26,
   "id": "4db36b1e",
   "metadata": {},
   "outputs": [
    {
     "data": {
      "text/html": [
       "<div>\n",
       "<style scoped>\n",
       "    .dataframe tbody tr th:only-of-type {\n",
       "        vertical-align: middle;\n",
       "    }\n",
       "\n",
       "    .dataframe tbody tr th {\n",
       "        vertical-align: top;\n",
       "    }\n",
       "\n",
       "    .dataframe thead th {\n",
       "        text-align: right;\n",
       "    }\n",
       "</style>\n",
       "<table border=\"1\" class=\"dataframe\">\n",
       "  <thead>\n",
       "    <tr style=\"text-align: right;\">\n",
       "      <th></th>\n",
       "      <th>Age</th>\n",
       "      <th>BMI</th>\n",
       "      <th>Exercise_Hours</th>\n",
       "      <th>Sleep_Hours</th>\n",
       "      <th>Blood_Pressure</th>\n",
       "      <th>Glucose_Level</th>\n",
       "      <th>Income</th>\n",
       "      <th>Diabetic_Score</th>\n",
       "    </tr>\n",
       "  </thead>\n",
       "  <tbody>\n",
       "    <tr>\n",
       "      <th>0</th>\n",
       "      <td>56</td>\n",
       "      <td>20.6</td>\n",
       "      <td>3.2</td>\n",
       "      <td>8.5</td>\n",
       "      <td>149</td>\n",
       "      <td>86</td>\n",
       "      <td>23052</td>\n",
       "      <td>16.9</td>\n",
       "    </tr>\n",
       "    <tr>\n",
       "      <th>1</th>\n",
       "      <td>69</td>\n",
       "      <td>27.8</td>\n",
       "      <td>1.1</td>\n",
       "      <td>5.7</td>\n",
       "      <td>141</td>\n",
       "      <td>88</td>\n",
       "      <td>64377</td>\n",
       "      <td>18.2</td>\n",
       "    </tr>\n",
       "    <tr>\n",
       "      <th>2</th>\n",
       "      <td>46</td>\n",
       "      <td>24.0</td>\n",
       "      <td>1.7</td>\n",
       "      <td>6.0</td>\n",
       "      <td>129</td>\n",
       "      <td>80</td>\n",
       "      <td>87838</td>\n",
       "      <td>14.8</td>\n",
       "    </tr>\n",
       "    <tr>\n",
       "      <th>3</th>\n",
       "      <td>32</td>\n",
       "      <td>21.3</td>\n",
       "      <td>2.4</td>\n",
       "      <td>7.4</td>\n",
       "      <td>137</td>\n",
       "      <td>105</td>\n",
       "      <td>87819</td>\n",
       "      <td>18.0</td>\n",
       "    </tr>\n",
       "    <tr>\n",
       "      <th>4</th>\n",
       "      <td>60</td>\n",
       "      <td>24.4</td>\n",
       "      <td>0.1</td>\n",
       "      <td>6.1</td>\n",
       "      <td>142</td>\n",
       "      <td>117</td>\n",
       "      <td>35620</td>\n",
       "      <td>20.3</td>\n",
       "    </tr>\n",
       "  </tbody>\n",
       "</table>\n",
       "</div>"
      ],
      "text/plain": [
       "   Age   BMI  Exercise_Hours  Sleep_Hours  Blood_Pressure  Glucose_Level  \\\n",
       "0   56  20.6             3.2          8.5             149             86   \n",
       "1   69  27.8             1.1          5.7             141             88   \n",
       "2   46  24.0             1.7          6.0             129             80   \n",
       "3   32  21.3             2.4          7.4             137            105   \n",
       "4   60  24.4             0.1          6.1             142            117   \n",
       "\n",
       "   Income  Diabetic_Score  \n",
       "0   23052            16.9  \n",
       "1   64377            18.2  \n",
       "2   87838            14.8  \n",
       "3   87819            18.0  \n",
       "4   35620            20.3  "
      ]
     },
     "execution_count": 26,
     "metadata": {},
     "output_type": "execute_result"
    }
   ],
   "source": [
    "df.head()"
   ]
  },
  {
   "cell_type": "code",
   "execution_count": 27,
   "id": "546a6ccb",
   "metadata": {},
   "outputs": [
    {
     "data": {
      "text/html": [
       "<div>\n",
       "<style scoped>\n",
       "    .dataframe tbody tr th:only-of-type {\n",
       "        vertical-align: middle;\n",
       "    }\n",
       "\n",
       "    .dataframe tbody tr th {\n",
       "        vertical-align: top;\n",
       "    }\n",
       "\n",
       "    .dataframe thead th {\n",
       "        text-align: right;\n",
       "    }\n",
       "</style>\n",
       "<table border=\"1\" class=\"dataframe\">\n",
       "  <thead>\n",
       "    <tr style=\"text-align: right;\">\n",
       "      <th></th>\n",
       "      <th>Age</th>\n",
       "      <th>BMI</th>\n",
       "      <th>Exercise_Hours</th>\n",
       "      <th>Sleep_Hours</th>\n",
       "      <th>Blood_Pressure</th>\n",
       "      <th>Glucose_Level</th>\n",
       "      <th>Income</th>\n",
       "      <th>Diabetic_Score</th>\n",
       "    </tr>\n",
       "  </thead>\n",
       "  <tbody>\n",
       "    <tr>\n",
       "      <th>count</th>\n",
       "      <td>1000.00000</td>\n",
       "      <td>1000.000000</td>\n",
       "      <td>1000.000000</td>\n",
       "      <td>1000.00000</td>\n",
       "      <td>1000.000000</td>\n",
       "      <td>1000.000000</td>\n",
       "      <td>1000.000000</td>\n",
       "      <td>1000.000000</td>\n",
       "    </tr>\n",
       "    <tr>\n",
       "      <th>mean</th>\n",
       "      <td>43.81900</td>\n",
       "      <td>27.230700</td>\n",
       "      <td>1.544500</td>\n",
       "      <td>6.50000</td>\n",
       "      <td>134.208000</td>\n",
       "      <td>139.741000</td>\n",
       "      <td>59527.618000</td>\n",
       "      <td>22.858900</td>\n",
       "    </tr>\n",
       "    <tr>\n",
       "      <th>std</th>\n",
       "      <td>14.99103</td>\n",
       "      <td>3.953332</td>\n",
       "      <td>0.919846</td>\n",
       "      <td>1.01587</td>\n",
       "      <td>14.186049</td>\n",
       "      <td>33.642082</td>\n",
       "      <td>23305.433964</td>\n",
       "      <td>4.106578</td>\n",
       "    </tr>\n",
       "    <tr>\n",
       "      <th>min</th>\n",
       "      <td>18.00000</td>\n",
       "      <td>15.400000</td>\n",
       "      <td>0.000000</td>\n",
       "      <td>3.50000</td>\n",
       "      <td>110.000000</td>\n",
       "      <td>80.000000</td>\n",
       "      <td>20028.000000</td>\n",
       "      <td>11.500000</td>\n",
       "    </tr>\n",
       "    <tr>\n",
       "      <th>25%</th>\n",
       "      <td>31.00000</td>\n",
       "      <td>24.575000</td>\n",
       "      <td>0.900000</td>\n",
       "      <td>5.80000</td>\n",
       "      <td>123.000000</td>\n",
       "      <td>112.000000</td>\n",
       "      <td>39642.500000</td>\n",
       "      <td>19.800000</td>\n",
       "    </tr>\n",
       "    <tr>\n",
       "      <th>50%</th>\n",
       "      <td>44.00000</td>\n",
       "      <td>27.200000</td>\n",
       "      <td>1.500000</td>\n",
       "      <td>6.50000</td>\n",
       "      <td>133.000000</td>\n",
       "      <td>140.000000</td>\n",
       "      <td>58534.500000</td>\n",
       "      <td>22.750000</td>\n",
       "    </tr>\n",
       "    <tr>\n",
       "      <th>75%</th>\n",
       "      <td>56.00000</td>\n",
       "      <td>29.725000</td>\n",
       "      <td>2.200000</td>\n",
       "      <td>7.20000</td>\n",
       "      <td>146.000000</td>\n",
       "      <td>168.000000</td>\n",
       "      <td>79494.000000</td>\n",
       "      <td>26.000000</td>\n",
       "    </tr>\n",
       "    <tr>\n",
       "      <th>max</th>\n",
       "      <td>69.00000</td>\n",
       "      <td>37.500000</td>\n",
       "      <td>4.000000</td>\n",
       "      <td>9.00000</td>\n",
       "      <td>159.000000</td>\n",
       "      <td>199.000000</td>\n",
       "      <td>99971.000000</td>\n",
       "      <td>33.800000</td>\n",
       "    </tr>\n",
       "  </tbody>\n",
       "</table>\n",
       "</div>"
      ],
      "text/plain": [
       "              Age          BMI  Exercise_Hours  Sleep_Hours  Blood_Pressure  \\\n",
       "count  1000.00000  1000.000000     1000.000000   1000.00000     1000.000000   \n",
       "mean     43.81900    27.230700        1.544500      6.50000      134.208000   \n",
       "std      14.99103     3.953332        0.919846      1.01587       14.186049   \n",
       "min      18.00000    15.400000        0.000000      3.50000      110.000000   \n",
       "25%      31.00000    24.575000        0.900000      5.80000      123.000000   \n",
       "50%      44.00000    27.200000        1.500000      6.50000      133.000000   \n",
       "75%      56.00000    29.725000        2.200000      7.20000      146.000000   \n",
       "max      69.00000    37.500000        4.000000      9.00000      159.000000   \n",
       "\n",
       "       Glucose_Level        Income  Diabetic_Score  \n",
       "count    1000.000000   1000.000000     1000.000000  \n",
       "mean      139.741000  59527.618000       22.858900  \n",
       "std        33.642082  23305.433964        4.106578  \n",
       "min        80.000000  20028.000000       11.500000  \n",
       "25%       112.000000  39642.500000       19.800000  \n",
       "50%       140.000000  58534.500000       22.750000  \n",
       "75%       168.000000  79494.000000       26.000000  \n",
       "max       199.000000  99971.000000       33.800000  "
      ]
     },
     "execution_count": 27,
     "metadata": {},
     "output_type": "execute_result"
    }
   ],
   "source": [
    "df.describe()"
   ]
  },
  {
   "cell_type": "code",
   "execution_count": 28,
   "id": "fd66a88d",
   "metadata": {},
   "outputs": [
    {
     "data": {
      "text/plain": [
       "Age               0\n",
       "BMI               0\n",
       "Exercise_Hours    0\n",
       "Sleep_Hours       0\n",
       "Blood_Pressure    0\n",
       "Glucose_Level     0\n",
       "Income            0\n",
       "Diabetic_Score    0\n",
       "dtype: int64"
      ]
     },
     "execution_count": 28,
     "metadata": {},
     "output_type": "execute_result"
    }
   ],
   "source": [
    "df.isnull().sum()"
   ]
  },
  {
   "cell_type": "code",
   "execution_count": 29,
   "id": "e2282eb9",
   "metadata": {},
   "outputs": [],
   "source": [
    "np_array=df[['Age','BMI']].values"
   ]
  },
  {
   "cell_type": "code",
   "execution_count": 30,
   "id": "27da2a15",
   "metadata": {},
   "outputs": [
    {
     "data": {
      "text/plain": [
       "array([[56. , 20.6],\n",
       "       [69. , 27.8],\n",
       "       [46. , 24. ],\n",
       "       ...,\n",
       "       [62. , 25.3],\n",
       "       [35. , 29.9],\n",
       "       [55. , 25.5]], shape=(1000, 2))"
      ]
     },
     "execution_count": 30,
     "metadata": {},
     "output_type": "execute_result"
    }
   ],
   "source": [
    "np_array"
   ]
  },
  {
   "cell_type": "code",
   "execution_count": 31,
   "id": "2076e88f",
   "metadata": {},
   "outputs": [
    {
     "data": {
      "text/plain": [
       "(1000, 2)"
      ]
     },
     "execution_count": 31,
     "metadata": {},
     "output_type": "execute_result"
    }
   ],
   "source": [
    "np_array.shape"
   ]
  },
  {
   "cell_type": "code",
   "execution_count": 32,
   "id": "548149d2",
   "metadata": {},
   "outputs": [],
   "source": [
    "random=np.random.randint(-2,6,size=(2,3))"
   ]
  },
  {
   "cell_type": "code",
   "execution_count": 33,
   "id": "4db3862c",
   "metadata": {},
   "outputs": [
    {
     "data": {
      "text/plain": [
       "array([[ 4,  3,  0],\n",
       "       [ 5, -2, -1]])"
      ]
     },
     "execution_count": 33,
     "metadata": {},
     "output_type": "execute_result"
    }
   ],
   "source": [
    "random"
   ]
  },
  {
   "cell_type": "code",
   "execution_count": 34,
   "id": "20710c99",
   "metadata": {},
   "outputs": [],
   "source": [
    "dot=np_array@random"
   ]
  },
  {
   "cell_type": "code",
   "execution_count": 36,
   "id": "b5ba96c3",
   "metadata": {},
   "outputs": [],
   "source": [
    "another_way=np_array.dot(random)"
   ]
  },
  {
   "cell_type": "code",
   "execution_count": 37,
   "id": "5a3cd95c",
   "metadata": {},
   "outputs": [
    {
     "name": "stdout",
     "output_type": "stream",
     "text": [
      "[[327.  126.8 -20.6]\n",
      " [415.  151.4 -27.8]\n",
      " [304.   90.  -24. ]\n",
      " ...\n",
      " [374.5 135.4 -25.3]\n",
      " [289.5  45.2 -29.9]\n",
      " [347.5 114.  -25.5]]\n"
     ]
    }
   ],
   "source": [
    "print(dot)"
   ]
  },
  {
   "cell_type": "code",
   "execution_count": 38,
   "id": "211a5156",
   "metadata": {},
   "outputs": [
    {
     "name": "stdout",
     "output_type": "stream",
     "text": [
      "[[327.  126.8 -20.6]\n",
      " [415.  151.4 -27.8]\n",
      " [304.   90.  -24. ]\n",
      " ...\n",
      " [374.5 135.4 -25.3]\n",
      " [289.5  45.2 -29.9]\n",
      " [347.5 114.  -25.5]]\n"
     ]
    }
   ],
   "source": [
    "print(another_way)"
   ]
  }
 ],
 "metadata": {
  "kernelspec": {
   "display_name": "Python 3",
   "language": "python",
   "name": "python3"
  },
  "language_info": {
   "codemirror_mode": {
    "name": "ipython",
    "version": 3
   },
   "file_extension": ".py",
   "mimetype": "text/x-python",
   "name": "python",
   "nbconvert_exporter": "python",
   "pygments_lexer": "ipython3",
   "version": "3.12.1"
  }
 },
 "nbformat": 4,
 "nbformat_minor": 5
}
