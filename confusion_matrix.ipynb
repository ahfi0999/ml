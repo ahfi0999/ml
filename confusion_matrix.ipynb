{
 "cells": [
  {
   "cell_type": "code",
   "execution_count": 13,
   "id": "1acb789f",
   "metadata": {},
   "outputs": [],
   "source": [
    "import numpy as np"
   ]
  },
  {
   "cell_type": "code",
   "execution_count": 14,
   "id": "bfbb24e7",
   "metadata": {},
   "outputs": [],
   "source": [
    "y_true = np.array([1, 0, 1, 1, 0, 1, 0, 0, 1, 0])"
   ]
  },
  {
   "cell_type": "code",
   "execution_count": 15,
   "id": "268242b7",
   "metadata": {},
   "outputs": [],
   "source": [
    "y_pred = np.array([1, 0, 1, 0, 0, 1, 1, 0, 0, 0])"
   ]
  },
  {
   "cell_type": "code",
   "execution_count": 16,
   "id": "b87b9775",
   "metadata": {},
   "outputs": [
    {
     "data": {
      "text/plain": [
       "array([ True, False,  True,  True, False,  True, False, False,  True,\n",
       "       False])"
      ]
     },
     "execution_count": 16,
     "metadata": {},
     "output_type": "execute_result"
    }
   ],
   "source": [
    "y_true == 1"
   ]
  },
  {
   "cell_type": "code",
   "execution_count": 17,
   "id": "eff5d587",
   "metadata": {},
   "outputs": [
    {
     "data": {
      "text/plain": [
       "array([ True, False,  True, False, False,  True,  True, False, False,\n",
       "       False])"
      ]
     },
     "execution_count": 17,
     "metadata": {},
     "output_type": "execute_result"
    }
   ],
   "source": [
    "y_pred==1"
   ]
  },
  {
   "cell_type": "code",
   "execution_count": 23,
   "id": "07acda6f",
   "metadata": {},
   "outputs": [
    {
     "name": "stdout",
     "output_type": "stream",
     "text": [
      "True positives = 3\n"
     ]
    }
   ],
   "source": [
    "TP=np.sum((y_true==1)&(y_pred==1))\n",
    "print(f\"True positives = {TP}\")"
   ]
  },
  {
   "cell_type": "code",
   "execution_count": 29,
   "id": "431655ff",
   "metadata": {},
   "outputs": [
    {
     "name": "stdout",
     "output_type": "stream",
     "text": [
      "True negatives = 4\n"
     ]
    }
   ],
   "source": [
    "TN=np.sum((y_true==0)&(y_pred==0))\n",
    "print(f\"True negatives = {TN}\")"
   ]
  },
  {
   "cell_type": "code",
   "execution_count": 28,
   "id": "cf4ab4cb",
   "metadata": {},
   "outputs": [
    {
     "name": "stdout",
     "output_type": "stream",
     "text": [
      "False positives = 1\n"
     ]
    }
   ],
   "source": [
    "FP=np.sum((y_true==0)&(y_pred==1))\n",
    "print(f\"False positives = {FP}\")"
   ]
  },
  {
   "cell_type": "code",
   "execution_count": 30,
   "id": "d83bc76a",
   "metadata": {},
   "outputs": [
    {
     "name": "stdout",
     "output_type": "stream",
     "text": [
      "False negatives = 2\n"
     ]
    }
   ],
   "source": [
    "FN = np.sum((y_true == 1) & (y_pred == 0))\n",
    "print(f\"False negatives = {FN}\")\n"
   ]
  },
  {
   "cell_type": "code",
   "execution_count": 31,
   "id": "28163412",
   "metadata": {},
   "outputs": [],
   "source": [
    "correct_predictions = TP + TN\n",
    "total_predictions = TP + TN + FP + FN"
   ]
  },
  {
   "cell_type": "code",
   "execution_count": 32,
   "id": "e2e1d5c2",
   "metadata": {},
   "outputs": [
    {
     "name": "stdout",
     "output_type": "stream",
     "text": [
      "Accuracy: 0.70\n"
     ]
    }
   ],
   "source": [
    "accuracy = correct_predictions / total_predictions\n",
    "print(f\"Accuracy: {accuracy:.2f}\")"
   ]
  },
  {
   "cell_type": "code",
   "execution_count": 34,
   "id": "4c13851f",
   "metadata": {},
   "outputs": [
    {
     "name": "stdout",
     "output_type": "stream",
     "text": [
      "precision: 0.75\n"
     ]
    }
   ],
   "source": [
    "positivea_predictions=TP+FP\n",
    "precision=TP/positivea_predictions if positivea_predictions !=0 else 0\n",
    "print(f\"precision: {precision:.2f}\")"
   ]
  },
  {
   "cell_type": "code",
   "execution_count": 35,
   "id": "1311f556",
   "metadata": {},
   "outputs": [
    {
     "name": "stdout",
     "output_type": "stream",
     "text": [
      "Recall: 0.60\n"
     ]
    }
   ],
   "source": [
    "actual_positives = TP + FN  \n",
    "recall = TP / actual_positives if actual_positives != 0 else 0\n",
    "\n",
    "print(f\"Recall: {recall:.2f}\")"
   ]
  },
  {
   "cell_type": "code",
   "execution_count": 36,
   "id": "fb8b1f6e",
   "metadata": {},
   "outputs": [
    {
     "name": "stdout",
     "output_type": "stream",
     "text": [
      "F1 Score: 0.67\n"
     ]
    }
   ],
   "source": [
    "precision_recall_sum = precision + recall\n",
    "f1_score = 2 * (precision * recall) / precision_recall_sum if precision_recall_sum != 0 else 0\n",
    "\n",
    "print(f\"F1 Score: {f1_score:.2f}\")"
   ]
  },
  {
   "cell_type": "code",
   "execution_count": 37,
   "id": "0891a75a",
   "metadata": {},
   "outputs": [],
   "source": [
    "y_prob = np.array([0.9, 0.1, 0.8, 0.3])"
   ]
  },
  {
   "cell_type": "code",
   "execution_count": 40,
   "id": "9607d8c7",
   "metadata": {},
   "outputs": [
    {
     "name": "stdout",
     "output_type": "stream",
     "text": [
      "[ True False  True False]\n"
     ]
    }
   ],
   "source": [
    "y_bool =( y_prob >= 0.5)\n",
    "print(y_bool)"
   ]
  },
  {
   "cell_type": "code",
   "execution_count": 43,
   "id": "7c753890",
   "metadata": {},
   "outputs": [
    {
     "name": "stdout",
     "output_type": "stream",
     "text": [
      "[1 0 1 0]\n"
     ]
    }
   ],
   "source": [
    "yy_predicted=y_bool.astype(int)\n",
    "print(yy_predicted)"
   ]
  },
  {
   "cell_type": "code",
   "execution_count": 44,
   "id": "c5ae6830",
   "metadata": {},
   "outputs": [
    {
     "name": "stdout",
     "output_type": "stream",
     "text": [
      "[[1 0 1 0]]\n"
     ]
    }
   ],
   "source": [
    "a=yy_predicted.reshape(1,4)\n",
    "print(a)"
   ]
  },
  {
   "cell_type": "code",
   "execution_count": null,
   "id": "712c59dd",
   "metadata": {},
   "outputs": [],
   "source": []
  }
 ],
 "metadata": {
  "kernelspec": {
   "display_name": "Python 3",
   "language": "python",
   "name": "python3"
  },
  "language_info": {
   "codemirror_mode": {
    "name": "ipython",
    "version": 3
   },
   "file_extension": ".py",
   "mimetype": "text/x-python",
   "name": "python",
   "nbconvert_exporter": "python",
   "pygments_lexer": "ipython3",
   "version": "3.12.1"
  }
 },
 "nbformat": 4,
 "nbformat_minor": 5
}
