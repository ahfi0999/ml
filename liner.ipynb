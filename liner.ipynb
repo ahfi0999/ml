{
 "cells": [
  {
   "cell_type": "code",
   "execution_count": null,
   "id": "1df796c4",
   "metadata": {},
   "outputs": [],
   "source": [
    "import pandas as pd"
   ]
  },
  {
   "cell_type": "code",
   "execution_count": 1,
   "id": "15afc1bd",
   "metadata": {},
   "outputs": [],
   "source": [
    "import numpy as np\n",
    "import random"
   ]
  },
  {
   "cell_type": "code",
   "execution_count": 4,
   "id": "b0fb7177",
   "metadata": {},
   "outputs": [],
   "source": [
    "a=np.random.randint(-30,40, size=(10, 10))"
   ]
  },
  {
   "cell_type": "code",
   "execution_count": 21,
   "id": "570c36d3",
   "metadata": {},
   "outputs": [
    {
     "name": "stdout",
     "output_type": "stream",
     "text": [
      "[[ -3 -18  -8  32 -10 -22  17  38 -24 -23]\n",
      " [-17  21  18  -9 -30   5  18   5   4  -8]\n",
      " [ 10 -10  15  21  16   2 -16 -29  18   6]\n",
      " [ 16  33 -24  26  24  13  31  -8  30  -9]\n",
      " [ -7   0 -27 -13   7 -21  -1  19  -5 -21]\n",
      " [-26  -7  -4  24  10 -18  39  21 -13   8]\n",
      " [  9 -18 -15  34 -11 -13   7 -18  -4  35]\n",
      " [ 24  -9  25 -23  -9  13   4   2  21  13]\n",
      " [ 14   1  -1  12  12  34  33  25  37  16]\n",
      " [-22 -20 -25   7 -12  10  22  11  19 -13]]\n"
     ]
    }
   ],
   "source": [
    "print(a)"
   ]
  },
  {
   "cell_type": "code",
   "execution_count": 18,
   "id": "f38de680",
   "metadata": {},
   "outputs": [],
   "source": [
    "b=np.random.randint(-70,40, size=(10, 8))  "
   ]
  },
  {
   "cell_type": "code",
   "execution_count": 22,
   "id": "e9cc04dd",
   "metadata": {},
   "outputs": [
    {
     "name": "stdout",
     "output_type": "stream",
     "text": [
      "[[-52   1 -30   9 -40 -32 -23 -45]\n",
      " [-37 -47   0 -24 -25 -38   8  -4]\n",
      " [ 32 -20 -47  31  15 -28   3 -62]\n",
      " [ 37  13  35 -29 -17 -67 -38 -21]\n",
      " [-70 -65 -41 -34 -14 -26  11   7]\n",
      " [  9 -19  21 -62 -38  30  -1  37]\n",
      " [-26  36 -34 -37   6 -35  29 -54]\n",
      " [-36 -69   7 -61 -51 -12  -3  22]\n",
      " [-38  -8  13 -25 -44 -43  24 -58]\n",
      " [-48 -18 -49 -23 -28 -69  34  30]]\n"
     ]
    }
   ],
   "source": [
    "print(b)\n"
   ]
  },
  {
   "cell_type": "code",
   "execution_count": 23,
   "id": "90e551fa",
   "metadata": {},
   "outputs": [],
   "source": [
    "c=np.dot(a,b)"
   ]
  },
  {
   "cell_type": "code",
   "execution_count": 24,
   "id": "0a1ed53b",
   "metadata": {},
   "outputs": [
    {
     "name": "stdout",
     "output_type": "stream",
     "text": [
      "[[ 2458  1083  2037  -885   746    28 -2382  -233]\n",
      " [ 2079   789   551   -15   709   465   951 -1605]\n",
      " [  493   548  -603  1291  -159 -2403  -630 -2233]\n",
      " [-4648  -934   568 -4970 -3571 -4728   424 -3121]\n",
      " [-1120  -621  1427    27   629  2510  -248  1666]\n",
      " [ -151   302  -720 -2693   802 -2808   774  -304]\n",
      " [  567  3455  -328   376    91 -3838  -445  -167]\n",
      " [-1817  -410 -2544   280 -1703  -925  1269 -2693]\n",
      " [-4819 -2404  -981 -6832 -5417 -4704  1639 -2380]\n",
      " [ 1207  2214  2995 -2569  -227  1485   482   321]]\n"
     ]
    }
   ],
   "source": [
    "print(c)"
   ]
  },
  {
   "cell_type": "code",
   "execution_count": 25,
   "id": "e9283907",
   "metadata": {},
   "outputs": [
    {
     "data": {
      "text/plain": [
       "array([[ 2458,  2079,   493, -4648, -1120,  -151,   567, -1817, -4819,\n",
       "         1207],\n",
       "       [ 1083,   789,   548,  -934,  -621,   302,  3455,  -410, -2404,\n",
       "         2214],\n",
       "       [ 2037,   551,  -603,   568,  1427,  -720,  -328, -2544,  -981,\n",
       "         2995],\n",
       "       [ -885,   -15,  1291, -4970,    27, -2693,   376,   280, -6832,\n",
       "        -2569],\n",
       "       [  746,   709,  -159, -3571,   629,   802,    91, -1703, -5417,\n",
       "         -227],\n",
       "       [   28,   465, -2403, -4728,  2510, -2808, -3838,  -925, -4704,\n",
       "         1485],\n",
       "       [-2382,   951,  -630,   424,  -248,   774,  -445,  1269,  1639,\n",
       "          482],\n",
       "       [ -233, -1605, -2233, -3121,  1666,  -304,  -167, -2693, -2380,\n",
       "          321]])"
      ]
     },
     "execution_count": 25,
     "metadata": {},
     "output_type": "execute_result"
    }
   ],
   "source": [
    "np.matrix_transpose(c)"
   ]
  },
  {
   "cell_type": "code",
   "execution_count": 26,
   "id": "97b7f08b",
   "metadata": {},
   "outputs": [
    {
     "name": "stdout",
     "output_type": "stream",
     "text": [
      "Package                   Version\n",
      "------------------------- --------------\n",
      "anyio                     4.9.0\n",
      "argon2-cffi               23.1.0\n",
      "argon2-cffi-bindings      21.2.0\n",
      "arrow                     1.3.0\n",
      "asttokens                 3.0.0\n",
      "async-lru                 2.0.5\n",
      "attrs                     25.3.0\n",
      "babel                     2.17.0\n",
      "beautifulsoup4            4.13.4\n",
      "bleach                    6.2.0\n",
      "certifi                   2025.4.26\n",
      "cffi                      1.17.1\n",
      "charset-normalizer        3.4.2\n",
      "colorama                  0.4.6\n",
      "comm                      0.2.2\n",
      "contourpy                 1.3.2\n",
      "cycler                    0.12.1\n",
      "debugpy                   1.8.14\n",
      "decorator                 5.2.1\n",
      "defusedxml                0.7.1\n",
      "executing                 2.2.0\n",
      "fastjsonschema            2.21.1\n",
      "filelock                  3.13.1\n",
      "fonttools                 4.58.1\n",
      "fqdn                      1.5.1\n",
      "fsspec                    2024.6.1\n",
      "gitdb                     4.0.12\n",
      "GitPython                 3.1.44\n",
      "h11                       0.16.0\n",
      "httpcore                  1.0.9\n",
      "httpx                     0.28.1\n",
      "idna                      3.10\n",
      "ipykernel                 6.29.5\n",
      "ipython                   9.2.0\n",
      "ipython_pygments_lexers   1.1.1\n",
      "isoduration               20.11.0\n",
      "jedi                      0.19.2\n",
      "Jinja2                    3.1.6\n",
      "joblib                    1.5.1\n",
      "json5                     0.12.0\n",
      "jsonpointer               3.0.0\n",
      "jsonschema                4.24.0\n",
      "jsonschema-specifications 2025.4.1\n",
      "jupyter_client            8.6.3\n",
      "jupyter_core              5.8.1\n",
      "jupyter-events            0.12.0\n",
      "jupyter-lsp               2.2.5\n",
      "jupyter_server            2.16.0\n",
      "jupyter-server-mathjax    0.2.6\n",
      "jupyter_server_terminals  0.5.3\n",
      "jupyterlab                4.4.3\n",
      "jupyterlab_git            0.51.1\n",
      "jupyterlab_pygments       0.3.0\n",
      "jupyterlab_server         2.27.3\n",
      "kiwisolver                1.4.8\n",
      "MarkupSafe                3.0.2\n",
      "matplotlib                3.10.3\n",
      "matplotlib-inline         0.1.7\n",
      "mistune                   3.1.3\n",
      "mpmath                    1.3.0\n",
      "narwhals                  1.41.0\n",
      "nbclient                  0.10.2\n",
      "nbconvert                 7.16.6\n",
      "nbdime                    4.0.2\n",
      "nbformat                  5.10.4\n",
      "nest-asyncio              1.6.0\n",
      "networkx                  3.3\n",
      "notebook_shim             0.2.4\n",
      "numpy                     2.2.6\n",
      "overrides                 7.7.0\n",
      "packaging                 25.0\n",
      "pandas                    2.2.3\n",
      "pandocfilters             1.5.1\n",
      "parso                     0.8.4\n",
      "pexpect                   4.9.0\n",
      "pillow                    11.2.1\n",
      "pip                       25.1.1\n",
      "platformdirs              4.3.8\n",
      "plotly                    6.1.2\n",
      "prometheus_client         0.22.0\n",
      "prompt_toolkit            3.0.51\n",
      "psutil                    7.0.0\n",
      "ptyprocess                0.7.0\n",
      "pure_eval                 0.2.3\n",
      "pycparser                 2.22\n",
      "Pygments                  2.19.1\n",
      "pyparsing                 3.2.3\n",
      "python-dateutil           2.9.0.post0\n",
      "python-json-logger        3.3.0\n",
      "pytz                      2025.2\n",
      "PyYAML                    6.0.2\n",
      "pyzmq                     26.4.0\n",
      "referencing               0.36.2\n",
      "requests                  2.32.3\n",
      "rfc3339-validator         0.1.4\n",
      "rfc3986-validator         0.1.1\n",
      "rpds-py                   0.25.1\n",
      "scikit-learn              1.6.1\n",
      "scipy                     1.15.3\n",
      "seaborn                   0.13.2\n",
      "Send2Trash                1.8.3\n",
      "setuptools                80.9.0\n",
      "six                       1.17.0\n",
      "smmap                     5.0.2\n",
      "sniffio                   1.3.1\n",
      "soupsieve                 2.7\n",
      "stack-data                0.6.3\n",
      "sympy                     1.13.3\n",
      "terminado                 0.18.1\n",
      "threadpoolctl             3.6.0\n",
      "tinycss2                  1.4.0\n",
      "torch                     2.7.0+cpu\n",
      "tornado                   6.5.1\n",
      "traitlets                 5.14.3\n",
      "types-python-dateutil     2.9.0.20250516\n",
      "typing_extensions         4.13.2\n",
      "tzdata                    2025.2\n",
      "uri-template              1.3.0\n",
      "urllib3                   2.4.0\n",
      "wcwidth                   0.2.13\n",
      "webcolors                 24.11.1\n",
      "webencodings              0.5.1\n",
      "websocket-client          1.8.0\n",
      "Note: you may need to restart the kernel to use updated packages.\n"
     ]
    }
   ],
   "source": [
    "pip list"
   ]
  },
  {
   "cell_type": "code",
   "execution_count": 27,
   "id": "8c2c0a4f",
   "metadata": {},
   "outputs": [],
   "source": [
    "x=np.random.randint(-30,40, size=(3, 3))"
   ]
  },
  {
   "cell_type": "code",
   "execution_count": 28,
   "id": "a5768f55",
   "metadata": {},
   "outputs": [
    {
     "name": "stdout",
     "output_type": "stream",
     "text": [
      "[[  7  25  23]\n",
      " [-19   7  38]\n",
      " [-26 -10 -30]]\n"
     ]
    }
   ],
   "source": [
    "print(x)"
   ]
  },
  {
   "cell_type": "code",
   "execution_count": 29,
   "id": "03737149",
   "metadata": {},
   "outputs": [],
   "source": [
    "y=np.random.randint(-80,40, size=(3, 3))"
   ]
  },
  {
   "cell_type": "code",
   "execution_count": 31,
   "id": "6c456c4d",
   "metadata": {},
   "outputs": [
    {
     "name": "stdout",
     "output_type": "stream",
     "text": [
      "[[-73 -19   4]\n",
      " [-30 -67  36]\n",
      " [ -9 -76 -66]]\n"
     ]
    }
   ],
   "source": [
    "print(y)"
   ]
  },
  {
   "cell_type": "code",
   "execution_count": 32,
   "id": "23a16437",
   "metadata": {},
   "outputs": [
    {
     "data": {
      "text/plain": [
       "array([[-1468, -3556,  -590],\n",
       "       [  835, -2996, -2332],\n",
       "       [ 2468,  3444,  1516]])"
      ]
     },
     "execution_count": 32,
     "metadata": {},
     "output_type": "execute_result"
    }
   ],
   "source": [
    "np.dot(x,y)"
   ]
  },
  {
   "cell_type": "code",
   "execution_count": 34,
   "id": "ebe5d9af",
   "metadata": {},
   "outputs": [
    {
     "data": {
      "text/plain": [
       "array([[-73, -30,  -9],\n",
       "       [-19, -67, -76],\n",
       "       [  4,  36, -66]])"
      ]
     },
     "execution_count": 34,
     "metadata": {},
     "output_type": "execute_result"
    }
   ],
   "source": [
    "np.transpose(y)"
   ]
  }
 ],
 "metadata": {
  "kernelspec": {
   "display_name": "Python 3",
   "language": "python",
   "name": "python3"
  },
  "language_info": {
   "codemirror_mode": {
    "name": "ipython",
    "version": 3
   },
   "file_extension": ".py",
   "mimetype": "text/x-python",
   "name": "python",
   "nbconvert_exporter": "python",
   "pygments_lexer": "ipython3",
   "version": "3.12.1"
  }
 },
 "nbformat": 4,
 "nbformat_minor": 5
}
