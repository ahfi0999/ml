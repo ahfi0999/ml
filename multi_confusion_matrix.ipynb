{
 "cells": [
  {
   "cell_type": "code",
   "execution_count": 4,
   "id": "ae653994",
   "metadata": {},
   "outputs": [],
   "source": [
    "import numpy as np"
   ]
  },
  {
   "cell_type": "code",
   "execution_count": 5,
   "id": "bd677881",
   "metadata": {},
   "outputs": [],
   "source": [
    "y_true =  np.array([0, 1, 2, 3, 0, 1, 2, 3, 0, 0, 1, 1, 2, 2, 3, 3])"
   ]
  },
  {
   "cell_type": "code",
   "execution_count": 6,
   "id": "abeca905",
   "metadata": {},
   "outputs": [
    {
     "data": {
      "text/plain": [
       "(16,)"
      ]
     },
     "execution_count": 6,
     "metadata": {},
     "output_type": "execute_result"
    }
   ],
   "source": [
    "y_true.shape"
   ]
  },
  {
   "cell_type": "code",
   "execution_count": 7,
   "id": "65ab9445",
   "metadata": {},
   "outputs": [
    {
     "data": {
      "text/plain": [
       "(16,)"
      ]
     },
     "execution_count": 7,
     "metadata": {},
     "output_type": "execute_result"
    }
   ],
   "source": [
    "y_pred =  np.array([0, 1, 2, 1, 0, 3, 2, 3, 1, 0, 1, 2, 2, 0, 3, 3])\n",
    "y_pred.shape"
   ]
  },
  {
   "cell_type": "code",
   "execution_count": 8,
   "id": "92b247a0",
   "metadata": {},
   "outputs": [],
   "source": [
    "target_class = 1  # Banana"
   ]
  },
  {
   "cell_type": "code",
   "execution_count": 9,
   "id": "8005bb28",
   "metadata": {},
   "outputs": [
    {
     "name": "stdout",
     "output_type": "stream",
     "text": [
      "TP : 2\n"
     ]
    }
   ],
   "source": [
    "TP=np.sum((y_true==target_class)&(y_pred==target_class))\n",
    "print(f\"TP : {TP}\")"
   ]
  },
  {
   "cell_type": "code",
   "execution_count": 10,
   "id": "b741f06d",
   "metadata": {},
   "outputs": [
    {
     "name": "stdout",
     "output_type": "stream",
     "text": [
      "FN :2\n"
     ]
    }
   ],
   "source": [
    "FN=np.sum((y_true==target_class)&(y_pred!=target_class))\n",
    "print(f\"FN :{FN}\")"
   ]
  },
  {
   "cell_type": "code",
   "execution_count": 11,
   "id": "12923ca4",
   "metadata": {},
   "outputs": [
    {
     "name": "stdout",
     "output_type": "stream",
     "text": [
      "FP : 2\n"
     ]
    }
   ],
   "source": [
    "FP=np.sum((y_true!=target_class)&(y_pred==target_class))\n",
    "print(f\"FP : {FP}\")"
   ]
  },
  {
   "cell_type": "code",
   "execution_count": 12,
   "id": "545b5c14",
   "metadata": {},
   "outputs": [
    {
     "name": "stdout",
     "output_type": "stream",
     "text": [
      "TN :10\n"
     ]
    }
   ],
   "source": [
    "TN=np.sum((y_true!=target_class)&(y_pred!=target_class))\n",
    "print(f\"TN :{TN}\")"
   ]
  },
  {
   "cell_type": "code",
   "execution_count": 13,
   "id": "125e320c",
   "metadata": {},
   "outputs": [
    {
     "name": "stdout",
     "output_type": "stream",
     "text": [
      "Class 0 ➜ TP: 3, FP: 1, FN: 1, TN: 11\n",
      "Class 1 ➜ TP: 2, FP: 2, FN: 2, TN: 10\n",
      "Class 2 ➜ TP: 3, FP: 1, FN: 1, TN: 11\n",
      "Class 3 ➜ TP: 3, FP: 1, FN: 1, TN: 11\n"
     ]
    }
   ],
   "source": [
    "import numpy as np\n",
    "\n",
    "y_true =  np.array([0, 1, 2, 3, 0, 1, 2, 3, 0, 0, 1, 1, 2, 2, 3, 3])\n",
    "y_pred =  np.array([0, 1, 2, 1, 0, 3, 2, 3, 1, 0, 1, 2, 2, 0, 3, 3])\n",
    "\n",
    "classes = np.unique(y_true)\n",
    "\n",
    "for cls in classes:\n",
    "    TP = np.sum((y_true == cls) & (y_pred == cls))\n",
    "    FP = np.sum((y_true != cls) & (y_pred == cls))\n",
    "    FN = np.sum((y_true == cls) & (y_pred != cls))\n",
    "    TN = np.sum((y_true != cls) & (y_pred != cls))\n",
    "\n",
    "    print(f\"Class {cls} ➜ TP: {TP}, FP: {FP}, FN: {FN}, TN: {TN}\")\n"
   ]
  },
  {
   "cell_type": "code",
   "execution_count": 14,
   "id": "0a085b0e",
   "metadata": {},
   "outputs": [
    {
     "data": {
      "text/plain": [
       "array([0, 1, 2, 3])"
      ]
     },
     "execution_count": 14,
     "metadata": {},
     "output_type": "execute_result"
    }
   ],
   "source": [
    "classes = np.unique(y_true)\n",
    "classes"
   ]
  },
  {
   "cell_type": "code",
   "execution_count": 15,
   "id": "4e37e7c9",
   "metadata": {},
   "outputs": [
    {
     "name": "stdout",
     "output_type": "stream",
     "text": [
      "Class: 0\n",
      "TP = 3 FP = 1 FN = 1 TN = 11\n",
      "Precision = 0.75\n",
      "Recall = 0.75\n",
      "F1 Score = 0.75\n",
      "-------------------------------\n",
      "Class: 1\n",
      "TP = 2 FP = 2 FN = 2 TN = 10\n",
      "Precision = 0.5\n",
      "Recall = 0.5\n",
      "F1 Score = 0.5\n",
      "-------------------------------\n",
      "Class: 2\n",
      "TP = 3 FP = 1 FN = 1 TN = 11\n",
      "Precision = 0.75\n",
      "Recall = 0.75\n",
      "F1 Score = 0.75\n",
      "-------------------------------\n",
      "Class: 3\n",
      "TP = 3 FP = 1 FN = 1 TN = 11\n",
      "Precision = 0.75\n",
      "Recall = 0.75\n",
      "F1 Score = 0.75\n",
      "-------------------------------\n"
     ]
    }
   ],
   "source": [
    "import numpy as np\n",
    "\n",
    "y_true = np.array([0, 1, 2, 3, 0, 1, 2, 3, 0, 0, 1, 1, 2, 2, 3, 3])\n",
    "y_pred = np.array([0, 1, 2, 1, 0, 3, 2, 3, 1, 0, 1, 2, 2, 0, 3, 3])\n",
    "\n",
    "classes = np.unique(y_true)\n",
    "\n",
    "for cls in classes:\n",
    "    TP = np.sum((y_true == cls) & (y_pred == cls))\n",
    "    FP = np.sum((y_true != cls) & (y_pred == cls))\n",
    "    FN = np.sum((y_true == cls) & (y_pred != cls))\n",
    "    TN = np.sum((y_true != cls) & (y_pred != cls))\n",
    "\n",
    "    precision = TP / (TP + FP) if (TP + FP) != 0 else 0\n",
    "    recall = TP / (TP + FN) if (TP + FN) != 0 else 0\n",
    "    f1 = 2 * precision * recall / (precision + recall) if (precision + recall) != 0 else 0\n",
    "\n",
    "    print(\"Class:\", cls)\n",
    "    print(\"TP =\", TP, \"FP =\", FP, \"FN =\", FN, \"TN =\", TN)\n",
    "    print(\"Precision =\", round(precision, 2))\n",
    "    print(\"Recall =\", round(recall, 2))\n",
    "    print(\"F1 Score =\", round(f1, 2))\n",
    "    print(\"-------------------------------\")\n"
   ]
  },
  {
   "cell_type": "code",
   "execution_count": 16,
   "id": "267cb1e4",
   "metadata": {},
   "outputs": [
    {
     "name": "stdout",
     "output_type": "stream",
     "text": [
      "Confusion Matrix:\n",
      " [[3 1 0 0]\n",
      " [0 2 1 1]\n",
      " [1 0 3 0]\n",
      " [0 1 0 3]]\n"
     ]
    }
   ],
   "source": [
    "num_classes = len(np.unique(y_true))\n",
    "conf_matrix = np.zeros((num_classes, num_classes), dtype=int)\n",
    "\n",
    "for true, pred in zip(y_true, y_pred):\n",
    "    conf_matrix[true][pred] += 1\n",
    "\n",
    "print(\"Confusion Matrix:\\n\", conf_matrix)\n"
   ]
  },
  {
   "cell_type": "code",
   "execution_count": 17,
   "id": "5bd3a941",
   "metadata": {},
   "outputs": [],
   "source": [
    "\n",
    "import matplotlib.pyplot as plt\n",
    "import seaborn as sns\n"
   ]
  },
  {
   "cell_type": "code",
   "execution_count": 18,
   "id": "840ec9e9",
   "metadata": {},
   "outputs": [
    {
     "data": {
      "image/png": "[encoded data removed]",
      "text/plain": [
       "<Figure size 600x500 with 2 Axes>"
      ]
     },
     "metadata": {},
     "output_type": "display_data"
    }
   ],
   "source": [
    "plt.figure(figsize=(6, 5))\n",
    "sns.heatmap(conf_matrix, annot=True, fmt='d', cmap='Reds', \n",
    "            xticklabels=[\"Apple\", \"Banana\", \"Cherry\", \"Date\"], \n",
    "            yticklabels=[\"Apple\", \"Banana\", \"Cherry\", \"Date\"])\n",
    "\n",
    "plt.xlabel(\"Predicted Label\")\n",
    "plt.ylabel(\"True Label\")\n",
    "plt.title(\"Confusion Matrix Heatmap\")\n",
    "plt.show()\n"
   ]
  },
  {
   "cell_type": "code",
   "execution_count": 19,
   "id": "19d3c942",
   "metadata": {},
   "outputs": [],
   "source": [
    "from sklearn.metrics import confusion_matrix, classification_report\n"
   ]
  },
  {
   "cell_type": "code",
   "execution_count": 20,
   "id": "8bc80e9d",
   "metadata": {},
   "outputs": [
    {
     "name": "stdout",
     "output_type": "stream",
     "text": [
      "Confusion Matrix:\n",
      " [[3 1 0 0]\n",
      " [0 2 1 1]\n",
      " [1 0 3 0]\n",
      " [0 1 0 3]]\n"
     ]
    }
   ],
   "source": [
    "cm = confusion_matrix(y_true, y_pred)\n",
    "print(\"Confusion Matrix:\\n\", cm)\n"
   ]
  },
  {
   "cell_type": "code",
   "execution_count": null,
   "id": "c6dca81e",
   "metadata": {},
   "outputs": [],
   "source": []
  }
 ],
 "metadata": {
  "kernelspec": {
   "display_name": "Python 3",
   "language": "python",
   "name": "python3"
  },
  "language_info": {
   "codemirror_mode": {
    "name": "ipython",
    "version": 3
   },
   "file_extension": ".py",
   "mimetype": "text/x-python",
   "name": "python",
   "nbconvert_exporter": "python",
   "pygments_lexer": "ipython3",
   "version": "3.12.1"
  }
 },
 "nbformat": 4,
 "nbformat_minor": 5
}
